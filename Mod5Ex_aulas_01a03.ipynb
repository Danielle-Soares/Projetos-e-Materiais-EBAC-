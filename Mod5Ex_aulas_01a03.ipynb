{
 "cells": [
  {
   "cell_type": "markdown",
   "metadata": {},
   "source": [
    "# Módulo 5 Tarefa 1\n",
    "## Base de nascidos vivos do DataSUS\n",
    "O DataSUS disponibiliza diversos arquivos de dados com relação a seus segurados, conforme a [lei da transparência de informações públicas](https://www.sisgov.com/transparencia-acesso-informacao/#:~:text=A%20Lei%20da%20Transpar%C3%AAncia%20(LC,em%20um%20site%20na%20internet.). \n",
    "\n",
    "Essas informações podem ser obtidas pela internet [aqui](http://www2.datasus.gov.br/DATASUS/index.php?area=0901&item=1). Como o processo de obtenção desses arquivos foge um pouco do nosso escopo, deixamos o arquivo ```SINASC_RO_2019.csv``` já como vai ser encontrado no DataSUS. O dicionário de dados está no arquivo ```estrutura_sinasc_para_CD.pdf``` (o nome do arquivo tal qual no portal do DataSUS).\n",
    "\n",
    "### Nosso objetivo\n",
    "Queremos deixar uma base organizada para podermos estudar a relação entre partos com risco para o bebê e algumas condições como tempo de parto, consultas de pré-natal etc.\n",
    "\n",
    "#### Preparação da base\n",
    "1. Carregue a base 'SINASC_RO_2019.csv'. Conte o número de registros e o número de registros não duplicados da base. Dica: você aprendeu um método que remove duplicados, encadeie este método com um outro método que conta o número de linhas. **Há linhas duplicadas?**  \n",
    "\n",
    "2. Conte o número de valores *missing* por variável.  \n",
    "\n",
    "3. Ok, no item anterior você deve ter achado pouco prático ler a informação de tantas variáveis, muitas delas nem devem ser interesantes. Então crie uma seleção dessa base somente com as colunas que interessam. São elas:\n",
    "``` \n",
    "['LOCNASC', 'IDADEMAE', 'ESTCIVMAE', 'ESCMAE', 'QTDFILVIVO', \n",
    "    'GESTACAO', 'GRAVIDEZ', 'CONSULTAS', 'APGAR5'] \n",
    "```\n",
    "Refaça a contagem de valores *missings*.  \n",
    "\n",
    "4. Apgar é uma *nota* que o pediatra dá ao bebê quando nasce de acordo com algumas características associadas principalmente à respiração. Apgar 1 e Apgar 5 são as notas 1 e 5 minutos do nascimento. Apgar5 será a nossa variável de interesse principal. Então remova todos os registros com Apgar5 não preenchido. Para esta seleção, conte novamente o número de linhas e o número de *missings*.  \n",
    "\n",
    "5. observe que as variáveis ```['ESTCIVMAE', 'CONSULTAS']``` possuem o código ```9```, que significa *ignorado*. Vamos assumir que o não preenchido é o mesmo que o código ```9```.<br>\n",
    "6. Substitua os valores faltantes da quantitativa (```QTDFILVIVO```) por zero.  \n",
    "7. Das restantes, decida que valore te parece mais adequado (um 'não preenchido' ou um valor 'mais provável' como no item anterior) e preencha. Justifique. Lembre-se de que tratamento de dados é trabalho do cientista, e que estamos tomando decisões a todo o momento - não há necessariamente certo e errado aqui.  \n",
    "8. O Apgar possui uma classificação indicando se o bebê passou por asfixia:\n",
    "- Entre 8 e 10 está em uma faixa 'normal'. \n",
    "- Entre 6 e 7, significa que o recém-nascido passou por 'asfixia leve'. \n",
    "- Entre 4 e 5 significa 'asfixia moderada'.\n",
    "- Entre 0 e 3 significa 'asfixia severa'.  \n",
    "\n",
    "Crie uma categorização dessa variável com essa codificação e calcule as frequências dessa categorização.  \n",
    "<br>\n",
    "9. Renomeie as variáveis para que fiquem no *snake case*, ou seja, em letras minúsculas, com um *underscore* entre as palávras. Dica: repare que se você não quiser criar um *dataframe* novo, você vai precisar usar a opção ```inplace = True```."
   ]
  },
  {
   "cell_type": "code",
   "execution_count": 2,
   "metadata": {},
   "outputs": [
    {
     "name": "stdout",
     "output_type": "stream",
     "text": [
      "(27028, 69)\n"
     ]
    },
    {
     "data": {
      "text/plain": [
       "(27028, 69)"
      ]
     },
     "execution_count": 2,
     "metadata": {},
     "output_type": "execute_result"
    }
   ],
   "source": [
    "import pandas as pd\n",
    "import requests\n",
    "\n",
    "# 1) seu código aqui\n",
    "sinasc = pd.read_csv('SINASC_RO_2019.csv')\n",
    "print(sinasc.shape)\n",
    "sinasc.drop_duplicates().shape\n",
    "\n",
    "# Não há duplicados"
   ]
  },
  {
   "cell_type": "code",
   "execution_count": 3,
   "metadata": {},
   "outputs": [
    {
     "data": {
      "text/plain": [
       "ORIGEM          0\n",
       "CODESTAB      115\n",
       "CODMUNNASC      0\n",
       "LOCNASC         0\n",
       "IDADEMAE        0\n",
       "             ... \n",
       "munResUf        0\n",
       "munResLat       1\n",
       "munResLon       1\n",
       "munResAlt       1\n",
       "munResArea      1\n",
       "Length: 69, dtype: int64"
      ]
     },
     "execution_count": 3,
     "metadata": {},
     "output_type": "execute_result"
    }
   ],
   "source": [
    "# 2) seu código aqui\n",
    "sinasc.isna().sum()\n",
    "\n",
    "\n"
   ]
  },
  {
   "cell_type": "code",
   "execution_count": 4,
   "metadata": {},
   "outputs": [
    {
     "data": {
      "text/plain": [
       "LOCNASC          0\n",
       "IDADEMAE         0\n",
       "ESTCIVMAE      317\n",
       "ESCMAE         312\n",
       "QTDFILVIVO    1573\n",
       "GESTACAO      1232\n",
       "GRAVIDEZ        79\n",
       "CONSULTAS        0\n",
       "APGAR5         103\n",
       "dtype: int64"
      ]
     },
     "execution_count": 4,
     "metadata": {},
     "output_type": "execute_result"
    }
   ],
   "source": [
    "# 3) seu código aqui\n",
    "selecao=['LOCNASC', 'IDADEMAE', 'ESTCIVMAE', 'ESCMAE', 'QTDFILVIVO', \n",
    "    'GESTACAO', 'GRAVIDEZ', 'CONSULTAS', 'APGAR5'] \n",
    "\n",
    "sinasc[selecao].isna().sum()\n"
   ]
  },
  {
   "cell_type": "code",
   "execution_count": 126,
   "metadata": {},
   "outputs": [
    {
     "name": "stdout",
     "output_type": "stream",
     "text": [
      "103\n",
      "(26925,)\n"
     ]
    }
   ],
   "source": [
    "# 4) seu código aqui\n",
    "print(sinasc['APGAR5'].isnull().sum())\n",
    "apgar5=sinasc['APGAR5'].dropna()\n",
    "print(apgar5.shape)\n",
    "\n",
    "#103 missing e 26925 linhas"
   ]
  },
  {
   "cell_type": "code",
   "execution_count": 6,
   "metadata": {},
   "outputs": [
    {
     "data": {
      "text/html": [
       "<div>\n",
       "<style scoped>\n",
       "    .dataframe tbody tr th:only-of-type {\n",
       "        vertical-align: middle;\n",
       "    }\n",
       "\n",
       "    .dataframe tbody tr th {\n",
       "        vertical-align: top;\n",
       "    }\n",
       "\n",
       "    .dataframe thead th {\n",
       "        text-align: right;\n",
       "    }\n",
       "</style>\n",
       "<table border=\"1\" class=\"dataframe\">\n",
       "  <thead>\n",
       "    <tr style=\"text-align: right;\">\n",
       "      <th></th>\n",
       "      <th>ESTCIVMAE</th>\n",
       "      <th>CONSULTAS</th>\n",
       "    </tr>\n",
       "  </thead>\n",
       "  <tbody>\n",
       "    <tr>\n",
       "      <th>0</th>\n",
       "      <td>5.0</td>\n",
       "      <td>4</td>\n",
       "    </tr>\n",
       "    <tr>\n",
       "      <th>1</th>\n",
       "      <td>2.0</td>\n",
       "      <td>4</td>\n",
       "    </tr>\n",
       "    <tr>\n",
       "      <th>2</th>\n",
       "      <td>9.0</td>\n",
       "      <td>4</td>\n",
       "    </tr>\n",
       "    <tr>\n",
       "      <th>3</th>\n",
       "      <td>5.0</td>\n",
       "      <td>3</td>\n",
       "    </tr>\n",
       "    <tr>\n",
       "      <th>4</th>\n",
       "      <td>2.0</td>\n",
       "      <td>4</td>\n",
       "    </tr>\n",
       "  </tbody>\n",
       "</table>\n",
       "</div>"
      ],
      "text/plain": [
       "   ESTCIVMAE  CONSULTAS\n",
       "0        5.0          4\n",
       "1        2.0          4\n",
       "2        9.0          4\n",
       "3        5.0          3\n",
       "4        2.0          4"
      ]
     },
     "execution_count": 6,
     "metadata": {},
     "output_type": "execute_result"
    }
   ],
   "source": [
    "# 5) seu código aqui\n",
    "colunas=['ESTCIVMAE', 'CONSULTAS']\n",
    "teste=sinasc[colunas].fillna(9)\n",
    "teste.head()"
   ]
  },
  {
   "cell_type": "code",
   "execution_count": 7,
   "metadata": {},
   "outputs": [
    {
     "data": {
      "text/plain": [
       "0        0.0\n",
       "1        1.0\n",
       "2        2.0\n",
       "3        0.0\n",
       "4        1.0\n",
       "        ... \n",
       "27023    1.0\n",
       "27024    0.0\n",
       "27025    0.0\n",
       "27026    1.0\n",
       "27027    1.0\n",
       "Name: QTDFILVIVO, Length: 27028, dtype: float64"
      ]
     },
     "execution_count": 7,
     "metadata": {},
     "output_type": "execute_result"
    }
   ],
   "source": [
    "# 6) Seu código aqui\n",
    "sinasc['QTDFILVIVO'].fillna(0)\n",
    "\n"
   ]
  },
  {
   "cell_type": "code",
   "execution_count": 76,
   "metadata": {},
   "outputs": [
    {
     "name": "stdout",
     "output_type": "stream",
     "text": [
      "0.027135990075980772 gestações acima de 42 semanas\n",
      "0.8756783997518995 gestacao entre 37 a 41 semanas\n",
      "0.08718405954411537 gestacao entre 32 a 36 semanas\n",
      "0.006396340517909754 gestacao entre 28 a 31 semanas \n",
      "\n",
      "0.9815577572451668 % de gravidez unica\n",
      "0.01825670711343649 % de gravidez dupla\n",
      "0.0 % de gravidez tripla\n",
      "\n",
      "0.9828412256267409 % com nota acima de 7\n"
     ]
    },
    {
     "data": {
      "text/plain": [
       "0        10.0\n",
       "1         9.0\n",
       "2        10.0\n",
       "3        10.0\n",
       "4        10.0\n",
       "         ... \n",
       "27023     9.0\n",
       "27024     9.0\n",
       "27025    10.0\n",
       "27026     9.0\n",
       "27027     8.0\n",
       "Name: APGAR5, Length: 27028, dtype: float64"
      ]
     },
     "execution_count": 76,
     "metadata": {},
     "output_type": "execute_result"
    }
   ],
   "source": [
    "# 7) seu código aqui\n",
    "\n",
    "sinasc['ESTCIVMAE'].fillna(9)\n",
    "sinasc['ESCMAE'].fillna(9)\n",
    "sinasc['QTDFILVIVO'].fillna(0)\n",
    "\n",
    "porcentagem_gestacao_acima42semanas=(sinasc['GESTACAO']=='42 semanas e mais').sum()/(27028-1232)\n",
    "porcentagem_gestacao_37a41semanas=(sinasc['GESTACAO']=='37 a 41 semanas').sum()/(27028-1232)\n",
    "porcentagem_gestacao_32a36semanas=(sinasc['GESTACAO']=='32 a 36 semanas').sum()/(27028-1232)\n",
    "porcentagem_gestacao_28a31semanas=(sinasc['GESTACAO']=='28 a 31 semanas').sum()/(27028-1232)\n",
    "print(f'{porcentagem_gestacao_acima42semanas} gestações acima de 42 semanas')\n",
    "print(f'{porcentagem_gestacao_37a41semanas} gestacao entre 37 a 41 semanas')\n",
    "print(f'{porcentagem_gestacao_32a36semanas} gestacao entre 32 a 36 semanas')\n",
    "print(f'{porcentagem_gestacao_28a31semanas} gestacao entre 28 a 31 semanas \\n')\n",
    "sinasc['GESTACAO'].fillna('gestacao entre 37 a 41 semanas')\n",
    "\n",
    "porcentagem_gravidez_unica=(sinasc['GRAVIDEZ']=='Única').sum()/(27028-79)\n",
    "porcentagem_gravidez_dupla=(sinasc['GRAVIDEZ']=='Dupla').sum()/(27028-79)\n",
    "porcentagem_gravidez_tripla=(sinasc['GRAVIDEZ']=='Tripla e mais').sum()/(27028-79)\n",
    "print(f'{porcentagem_gravidez_unica} % de gravidez unica')\n",
    "print(f'{porcentagem_gravidez_dupla} % de gravidez dupla')\n",
    "print(f'{porcentagem_gravidez_tripla} % de gravidez tripla\\n')\n",
    "sinasc['GRAVIDEZ'].fillna('Única')\n",
    "\n",
    "porcentagem_apgar_maior7=(sinasc['APGAR5']>7).sum()/(27028-103)\n",
    "print(f'{porcentagem_apgar_maior7} % com nota acima de 7')\n",
    "sinasc['APGAR5'].fillna(10)"
   ]
  },
  {
   "cell_type": "markdown",
   "metadata": {},
   "source": [
    "Nas colunas LOCNASC, IDADEMAE e CONSULTAS não tem dados faltantes.\n",
    "Nas colunas ESTCIVMAE, ESCMAE e QTDFILVIVO os dados faltantes foram substituídos por cod 9(ignorado) e 0 pois não achei que essas colunas tivessem relação com risco para o bebê.\n",
    "A coluna GESTACAO, calculei a porcentagem de cada período de gestação e como as 'gestações entre 37 a 41 semanas' obtiveram quase 90 % achei interessante substituir os dados faltantes por ela, ou poderia também ignorá-las pois não vai fazer diferença.\n",
    "A coluna GRAVIDEZ, calculei a porcentagem de cada tipo de gravidez e como s 'gravidez única' obtiveram quase 100 % achei interessante substituir os dados faltantes por ela, ou poderia também ignorá-las pois também não vai fazer diferença.\n",
    "A coluna APGAR5 calculei a porcentagem de APGAR5 maior que 7(notas boas para o bebê), como obtive quase 100 % também achei interessante substituir os faltantes por uma nota boa, no caso coloquei 10."
   ]
  },
  {
   "cell_type": "code",
   "execution_count": 119,
   "metadata": {},
   "outputs": [
    {
     "data": {
      "text/plain": [
       "normal              24469\n",
       "asfixia leve          320\n",
       "asfixia severa         74\n",
       "asfixia moderada       68\n",
       "Name: condicao_APGAR5, dtype: int64"
      ]
     },
     "execution_count": 119,
     "metadata": {},
     "output_type": "execute_result"
    }
   ],
   "source": [
    "# 8) seu código aqui\n",
    "\n",
    "sinasc.loc[sinasc['APGAR5']<=3, 'condicao_APGAR5']='asfixia severa'\n",
    "sinasc.loc[(sinasc['APGAR5']>3) & (sinasc['APGAR5']<6), 'condicao_APGAR5']= 'asfixia moderada'\n",
    "sinasc.loc[(sinasc['APGAR5']>5) & (sinasc['APGAR5']<8), 'condicao_APGAR5']= 'asfixia leve'\n",
    "sinasc.loc[sinasc['APGAR5']>8, 'condicao_APGAR5']='normal'\n",
    "sinasc['condicao_APGAR5'].value_counts()"
   ]
  },
  {
   "cell_type": "code",
   "execution_count": 145,
   "metadata": {},
   "outputs": [
    {
     "data": {
      "text/plain": [
       "Index(['origem', 'codestab', 'codmunnasc', 'locnasc', 'idademae', 'estcivmae',\n",
       "       'escmae', 'codocupmae', 'qtdfilvivo', 'qtdfilmort', 'codmunres',\n",
       "       'gestacao', 'gravidez', 'parto', 'consultas', 'dtnasc', 'horanasc',\n",
       "       'sexo', 'apgar1', 'apgar5', 'racacor', 'peso', 'idanomal', 'dtcadastro',\n",
       "       'codanomal', 'numerolote', 'versaosist', 'dtrecebim', 'difdata',\n",
       "       'dtrecoriga', 'naturalmae', 'codmunnatu', 'codufnatu', 'escmae2010',\n",
       "       'seriescmae', 'dtnascmae', 'racacormae', 'qtdgestant', 'qtdpartnor',\n",
       "       'qtdpartces', 'idadepai', 'dtultmenst', 'semagestac', 'tpmetestim',\n",
       "       'consprenat', 'mesprenat', 'tpapresent', 'sttrabpart', 'stcesparto',\n",
       "       'tpnascassi', 'tpfuncresp', 'tpdocresp', 'dtdeclarac', 'escmaeagr1',\n",
       "       'stdnepidem', 'stdnnova', 'codpaisres', 'tprobson', 'paridade',\n",
       "       'kotelchuck', 'contador', 'munresstatus', 'munrestipo', 'munresnome',\n",
       "       'munresuf', 'munreslat', 'munreslon', 'munresalt', 'munresarea',\n",
       "       'condicao_apgar5'],\n",
       "      dtype='object')"
      ]
     },
     "execution_count": 145,
     "metadata": {},
     "output_type": "execute_result"
    }
   ],
   "source": [
    "# 9) seu código aqui\n",
    "sinasc.columns=sinasc.columns.str.lower()\n",
    "sinasc.columns\n",
    "\n",
    "\n"
   ]
  }
 ],
 "metadata": {
  "kernelspec": {
   "display_name": "Python 3 (ipykernel)",
   "language": "python",
   "name": "python3"
  },
  "language_info": {
   "codemirror_mode": {
    "name": "ipython",
    "version": 3
   },
   "file_extension": ".py",
   "mimetype": "text/x-python",
   "name": "python",
   "nbconvert_exporter": "python",
   "pygments_lexer": "ipython3",
   "version": "3.10.9"
  }
 },
 "nbformat": 4,
 "nbformat_minor": 4
}
